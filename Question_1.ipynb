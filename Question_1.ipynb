{
  "nbformat": 4,
  "nbformat_minor": 0,
  "metadata": {
    "colab": {
      "provenance": []
    },
    "kernelspec": {
      "name": "python3",
      "display_name": "Python 3"
    },
    "language_info": {
      "name": "python"
    }
  },
  "cells": [
    {
      "cell_type": "code",
      "execution_count": null,
      "metadata": {
        "id": "GJMtO7ag8Mgd"
      },
      "outputs": [],
      "source": [
        "import pandas as pd\n",
        "import numpy as np\n",
        "f = {'Boys': [72, 68, 70, 69, 74], 'Girls': [63, 65, 69, 62, 61]}"
      ]
    },
    {
      "cell_type": "code",
      "source": [
        "d={}\n",
        "j={}"
      ],
      "metadata": {
        "id": "n9h8oDni-y9z"
      },
      "execution_count": null,
      "outputs": []
    },
    {
      "cell_type": "code",
      "source": [
        "for i in range(0,5):\n",
        "  d['Boys'] = f['Boys'][i]\n",
        "  d['Girls'] = f['Girls'][i]\n",
        "  print(d)"
      ],
      "metadata": {
        "colab": {
          "base_uri": "https://localhost:8080/"
        },
        "id": "ApuClPjz_IaZ",
        "outputId": "a54672ff-9496-499c-9d00-94adc4882ca1"
      },
      "execution_count": null,
      "outputs": [
        {
          "output_type": "stream",
          "name": "stdout",
          "text": [
            "{'Boys': 72, 'Girls': 63}\n",
            "{'Boys': 68, 'Girls': 65}\n",
            "{'Boys': 70, 'Girls': 69}\n",
            "{'Boys': 69, 'Girls': 62}\n",
            "{'Boys': 74, 'Girls': 61}\n"
          ]
        }
      ]
    },
    {
      "cell_type": "code",
      "source": [
        "l = [dict([d][0]) for x in range(0,5)]\n",
        "print(l)"
      ],
      "metadata": {
        "colab": {
          "base_uri": "https://localhost:8080/"
        },
        "id": "LqbZI5mk_yxk",
        "outputId": "cb5173ea-7aa1-4cff-a205-d43dc7c17072"
      },
      "execution_count": null,
      "outputs": [
        {
          "output_type": "stream",
          "name": "stdout",
          "text": [
            "[{'Boys': 74, 'Girls': 61}, {'Boys': 74, 'Girls': 61}, {'Boys': 74, 'Girls': 61}, {'Boys': 74, 'Girls': 61}, {'Boys': 74, 'Girls': 61}]\n"
          ]
        }
      ]
    },
    {
      "cell_type": "code",
      "source": [],
      "metadata": {
        "id": "E6mh9mqvCZn6"
      },
      "execution_count": null,
      "outputs": []
    }
  ]
}