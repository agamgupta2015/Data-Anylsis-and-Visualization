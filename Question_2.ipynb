{
  "nbformat": 4,
  "nbformat_minor": 0,
  "metadata": {
    "colab": {
      "provenance": []
    },
    "kernelspec": {
      "name": "python3",
      "display_name": "Python 3"
    },
    "language_info": {
      "name": "python"
    }
  },
  "cells": [
    {
      "cell_type": "code",
      "execution_count": 1,
      "metadata": {
        "id": "LzWGXJBqjPok"
      },
      "outputs": [],
      "source": [
        "import numpy as np"
      ]
    },
    {
      "cell_type": "code",
      "source": [
        "arr = np.random.randint(1,50,(4,6))\n",
        "arr"
      ],
      "metadata": {
        "colab": {
          "base_uri": "https://localhost:8080/"
        },
        "id": "OvQB3th6ojTD",
        "outputId": "01940a0c-5a1c-4d67-8ab5-44cb421b0220"
      },
      "execution_count": 2,
      "outputs": [
        {
          "output_type": "execute_result",
          "data": {
            "text/plain": [
              "array([[ 1, 42, 12, 34, 24, 37],\n",
              "       [24, 14, 43, 38, 34, 37],\n",
              "       [47, 36, 36,  6, 13, 10],\n",
              "       [33, 29,  7, 41,  1, 49]])"
            ]
          },
          "metadata": {},
          "execution_count": 2
        }
      ]
    },
    {
      "cell_type": "code",
      "source": [
        "print('Mean of the array: ',arr.mean(axis=0))"
      ],
      "metadata": {
        "colab": {
          "base_uri": "https://localhost:8080/"
        },
        "id": "VpbBo5kfovlg",
        "outputId": "4d627ede-2475-411e-adeb-3fbcff5e62ec"
      },
      "execution_count": 3,
      "outputs": [
        {
          "output_type": "stream",
          "name": "stdout",
          "text": [
            "Mean of the array:  [26.25 30.25 24.5  29.75 18.   33.25]\n"
          ]
        }
      ]
    },
    {
      "cell_type": "code",
      "source": [
        "print('Standard Deviation of the array: ',arr.std(axis=1))"
      ],
      "metadata": {
        "colab": {
          "base_uri": "https://localhost:8080/"
        },
        "id": "WfFiXQDVox64",
        "outputId": "88e6cc9c-4116-4b07-9386-7902bf8ce5f7"
      },
      "execution_count": 4,
      "outputs": [
        {
          "output_type": "stream",
          "name": "stdout",
          "text": [
            "Standard Deviation of the array:  [14.49137675  9.7752522  15.57419518 17.29804099]\n"
          ]
        }
      ]
    },
    {
      "cell_type": "code",
      "source": [
        "print('Variance of the array: ',arr.var(axis=1))"
      ],
      "metadata": {
        "colab": {
          "base_uri": "https://localhost:8080/"
        },
        "id": "eOqp0vQxo-CA",
        "outputId": "0827c266-ea5b-4333-d486-83d38887e688"
      },
      "execution_count": 5,
      "outputs": [
        {
          "output_type": "stream",
          "name": "stdout",
          "text": [
            "Variance of the array:  [210.          95.55555556 242.55555556 299.22222222]\n"
          ]
        }
      ]
    },
    {
      "cell_type": "code",
      "source": [
        "B = [56, 48, 22, 41, 78, 91, 24, 46, 8, 33]\n",
        "np.argsort(B)"
      ],
      "metadata": {
        "id": "zNGhXN2ypBrL",
        "colab": {
          "base_uri": "https://localhost:8080/"
        },
        "outputId": "e45cf3d2-0355-428f-a3a0-121075a93d63"
      },
      "execution_count": 16,
      "outputs": [
        {
          "output_type": "execute_result",
          "data": {
            "text/plain": [
              "array([8, 2, 6, 9, 3, 7, 1, 0, 4, 5])"
            ]
          },
          "metadata": {},
          "execution_count": 16
        }
      ]
    },
    {
      "cell_type": "code",
      "source": [
        "f = B.sort()\n",
        "f"
      ],
      "metadata": {
        "id": "cDG8l4gHXQFV"
      },
      "execution_count": 13,
      "outputs": []
    },
    {
      "cell_type": "code",
      "source": [
        "m = int(input(\"Enter the first value\"))\n",
        "n = int(input(\"Enter the Second value\"))\n",
        "arr1 = np.random.randint(1,100,(m,n))\n",
        "print(arr1)\n",
        "print(\"Shape \",arr1.shape)\n",
        "print(\"dtype \",arr1.dtype)\n",
        "arr1 = arr1.reshape((n,m))\n",
        "print(arr1)"
      ],
      "metadata": {
        "colab": {
          "base_uri": "https://localhost:8080/"
        },
        "id": "W5WNJkQHXTpi",
        "outputId": "117342cf-7f8d-41a5-9402-665463ed47b9"
      },
      "execution_count": 22,
      "outputs": [
        {
          "output_type": "stream",
          "name": "stdout",
          "text": [
            "Enter the first value3\n",
            "Enter the Second value4\n",
            "[[83 26 11 74]\n",
            " [67 38 31 32]\n",
            " [54 48 96 83]]\n",
            "Shape  (3, 4)\n",
            "dtype  int64\n",
            "[[83 26 11]\n",
            " [74 67 38]\n",
            " [31 32 54]\n",
            " [48 96 83]]\n"
          ]
        }
      ]
    },
    {
      "cell_type": "code",
      "source": [
        "x = np.array([1, 0, 3, 4])\n",
        "print(\"ORIGINAL ARRAY ::--> \",x)\n",
        "print(\"\\nTest if none of the elements of the said array is zero ::--> \", np.all(x))\n",
        "\n",
        "res = np.where(x == 0)[0]\n",
        "print(\"The index of the  zero elements is :: \",res)\n",
        "\n",
        "\n",
        "x = np.array([1, 0, 0, 3, 2, 0])\n",
        "print(\"\\n-------------------------------------------------------\")\n",
        "print(\"\\nORIGINAL ARRAY ::--> \",x)\n",
        "print(\"\\nTest whether any of the elements of a given array is non-zero ::\",np.any(x))\n",
        "res = np.where(x != 0)[0]\n",
        "print(\"The index of the non- zero elements is :: \",res)\n",
        "x = np.array([0, 0, 0, 0])\n",
        "\n",
        "\n",
        "a = np.array([1, 0, np.nan, 3, np.nan])\n",
        "print(\"\\n-------------------------------------------------------\")\n",
        "print(\"\\nORIGINAL ARRAY ::--> \",a)\n",
        "print(\"\\nTest element-wise for NaN :: \",np.isnan(a))\n",
        "\n",
        "res = np.where(np.isnan(a) == True)[0]\n",
        "print(\"The index of the  zero elements is :: \",res)"
      ],
      "metadata": {
        "id": "GHgmFDs7XYGK"
      },
      "execution_count": null,
      "outputs": []
    }
  ]
}